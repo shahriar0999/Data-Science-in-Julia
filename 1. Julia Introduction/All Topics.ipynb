{
 "cells": [
  {
   "cell_type": "markdown",
   "id": "28ec4203",
   "metadata": {},
   "source": [
    "# Tutorial 10x06\n"
   ]
  },
  {
   "cell_type": "code",
   "execution_count": 1,
   "id": "eef58f9b",
   "metadata": {},
   "outputs": [
    {
     "name": "stdout",
     "output_type": "stream",
     "text": [
      "Hello, World!!\n"
     ]
    }
   ],
   "source": [
    "println(\"Hello, World!!\")"
   ]
  },
  {
   "cell_type": "markdown",
   "id": "c0acce56",
   "metadata": {},
   "source": [
    "# Tutorial 10x07\n"
   ]
  },
  {
   "cell_type": "code",
   "execution_count": 7,
   "id": "b03e1f42",
   "metadata": {},
   "outputs": [],
   "source": [
    "# this is a single-line comment\n",
    "\n",
    "#=\n",
    "    this is a \n",
    "    multi-line\n",
    "    comment\n",
    "=#"
   ]
  },
  {
   "cell_type": "code",
   "execution_count": 11,
   "id": "d945f70f",
   "metadata": {},
   "outputs": [
    {
     "name": "stdout",
     "output_type": "stream",
     "text": [
      "2\n",
      "1\n",
      "8\n",
      "2.0\n",
      "2.5\n",
      "8\n",
      "1"
     ]
    },
    {
     "data": {
      "text/plain": [
       "6"
      ]
     },
     "execution_count": 11,
     "metadata": {},
     "output_type": "execute_result"
    }
   ],
   "source": [
    "# basic math\n",
    "\n",
    "\n",
    "# Assignment operator\n",
    "\n",
    "# addition\n",
    "println(1 + 1)\n",
    "\n",
    "#subtraction\n",
    "println(2 - 1)\n",
    "\n",
    "#multiplication\n",
    "println(2*4)\n",
    "\n",
    "#divition\n",
    "println(4/2)\n",
    "\n",
    "println(5/2)\n",
    "\n",
    "# exponential\n",
    "println(2^3)\n",
    "\n",
    "#modolus\n",
    "print(5%2)\n",
    "\n",
    "# order of operations (PEMDAS)\n",
    "1 + (2 - 3)^4 * 5"
   ]
  },
  {
   "cell_type": "markdown",
   "id": "1e356815",
   "metadata": {},
   "source": [
    "# Tutorial 10x08\n"
   ]
  },
  {
   "cell_type": "code",
   "execution_count": 1,
   "id": "b326be23",
   "metadata": {},
   "outputs": [
    {
     "name": "stdout",
     "output_type": "stream",
     "text": [
      "false\n"
     ]
    }
   ],
   "source": [
    "# comparison operators\n",
    "\n",
    "println(3 < 2)"
   ]
  },
  {
   "cell_type": "code",
   "execution_count": 2,
   "id": "96a1da41",
   "metadata": {},
   "outputs": [
    {
     "data": {
      "text/plain": [
       "true"
      ]
     },
     "execution_count": 2,
     "metadata": {},
     "output_type": "execute_result"
    }
   ],
   "source": [
    "5 >= 4"
   ]
  },
  {
   "cell_type": "code",
   "execution_count": 3,
   "id": "33e5c455",
   "metadata": {},
   "outputs": [
    {
     "data": {
      "text/plain": [
       "true"
      ]
     },
     "execution_count": 3,
     "metadata": {},
     "output_type": "execute_result"
    }
   ],
   "source": [
    "5 == 5"
   ]
  },
  {
   "cell_type": "code",
   "execution_count": 4,
   "id": "056d2e91",
   "metadata": {},
   "outputs": [
    {
     "data": {
      "text/plain": [
       "false"
      ]
     },
     "execution_count": 4,
     "metadata": {},
     "output_type": "execute_result"
    }
   ],
   "source": [
    "# Boolean operators\n",
    "\n",
    "# && short-circuiting AND\n",
    "4 == 3 && 4 < 9"
   ]
  },
  {
   "cell_type": "code",
   "execution_count": 5,
   "id": "c339a1ba",
   "metadata": {},
   "outputs": [
    {
     "data": {
      "text/plain": [
       "true"
      ]
     },
     "execution_count": 5,
     "metadata": {},
     "output_type": "execute_result"
    }
   ],
   "source": [
    "# || short-circuiting OR\n",
    "4 == 9 || 2 > 1"
   ]
  },
  {
   "cell_type": "code",
   "execution_count": 6,
   "id": "720ec2d9",
   "metadata": {},
   "outputs": [
    {
     "data": {
      "text/plain": [
       "2"
      ]
     },
     "execution_count": 6,
     "metadata": {},
     "output_type": "execute_result"
    }
   ],
   "source": [
    "# true = 1 and false=0\n",
    "\n",
    "true + false + true"
   ]
  },
  {
   "cell_type": "markdown",
   "id": "8c906156",
   "metadata": {},
   "source": [
    "# Tutorial 10x0"
   ]
  },
  {
   "cell_type": "code",
   "execution_count": 7,
   "id": "ef498d1d",
   "metadata": {},
   "outputs": [],
   "source": [
    "# variables"
   ]
  },
  {
   "cell_type": "code",
   "execution_count": 8,
   "id": "d57aba3b",
   "metadata": {},
   "outputs": [
    {
     "data": {
      "text/plain": [
       "3"
      ]
     },
     "execution_count": 8,
     "metadata": {},
     "output_type": "execute_result"
    }
   ],
   "source": [
    "x = 1\n",
    "y = 2\n",
    "z = x + y"
   ]
  },
  {
   "cell_type": "code",
   "execution_count": 11,
   "id": "5e896313",
   "metadata": {},
   "outputs": [
    {
     "data": {
      "text/plain": [
       "3"
      ]
     },
     "execution_count": 11,
     "metadata": {},
     "output_type": "execute_result"
    }
   ],
   "source": [
    "x = 2\n",
    "y \n",
    "z"
   ]
  },
  {
   "cell_type": "code",
   "execution_count": 12,
   "id": "c52034f4",
   "metadata": {},
   "outputs": [
    {
     "data": {
      "text/plain": [
       "4"
      ]
     },
     "execution_count": 12,
     "metadata": {},
     "output_type": "execute_result"
    }
   ],
   "source": [
    "x + y"
   ]
  },
  {
   "cell_type": "code",
   "execution_count": 13,
   "id": "e1cd3415",
   "metadata": {},
   "outputs": [
    {
     "data": {
      "text/plain": [
       "3"
      ]
     },
     "execution_count": 13,
     "metadata": {},
     "output_type": "execute_result"
    }
   ],
   "source": [
    "# how to increment\n",
    "\n",
    "i = 1\n",
    "\n",
    "i = i + 1\n",
    "\n",
    "# efficient way\n",
    "i += 1"
   ]
  },
  {
   "cell_type": "code",
   "execution_count": 14,
   "id": "2edbe1ee",
   "metadata": {},
   "outputs": [
    {
     "name": "stdout",
     "output_type": "stream",
     "text": [
      "6\n"
     ]
    }
   ],
   "source": [
    "# how to perform basic math\n",
    "# using variables\n",
    "\n",
    "height = 2\n",
    "\n",
    "width = 3\n",
    "\n",
    "area = height * width\n",
    "println(area)"
   ]
  },
  {
   "cell_type": "markdown",
   "id": "644c3d5b",
   "metadata": {},
   "source": [
    "# Tutorial 10x10"
   ]
  },
  {
   "cell_type": "code",
   "execution_count": 1,
   "id": "2a54a462",
   "metadata": {},
   "outputs": [],
   "source": [
    "# Data Types | Numbers"
   ]
  },
  {
   "cell_type": "code",
   "execution_count": 2,
   "id": "3a76bb29",
   "metadata": {},
   "outputs": [
    {
     "data": {
      "text/plain": [
       "Int64"
      ]
     },
     "metadata": {},
     "output_type": "display_data"
    }
   ],
   "source": [
    "typeof(-2)"
   ]
  },
  {
   "cell_type": "code",
   "execution_count": 3,
   "id": "cae23d4b",
   "metadata": {},
   "outputs": [
    {
     "data": {
      "text/plain": [
       "Float64"
      ]
     },
     "metadata": {},
     "output_type": "display_data"
    }
   ],
   "source": [
    "typeof(1.2)"
   ]
  },
  {
   "cell_type": "code",
   "execution_count": 4,
   "id": "f5e55d8f",
   "metadata": {},
   "outputs": [
    {
     "data": {
      "text/plain": [
       "Float32"
      ]
     },
     "metadata": {},
     "output_type": "display_data"
    }
   ],
   "source": [
    "example::Float32 = 2.4\n",
    "typeof(example)"
   ]
  },
  {
   "cell_type": "code",
   "execution_count": 5,
   "id": "13ed1871",
   "metadata": {},
   "outputs": [
    {
     "data": {
      "text/plain": [
       "0.30000000000000004"
      ]
     },
     "metadata": {},
     "output_type": "display_data"
    }
   ],
   "source": [
    "0.1 + 0.2"
   ]
  },
  {
   "cell_type": "code",
   "execution_count": 6,
   "id": "805f8e31",
   "metadata": {},
   "outputs": [
    {
     "data": {
      "text/plain": [
       "0.3333333333333333"
      ]
     },
     "metadata": {},
     "output_type": "display_data"
    }
   ],
   "source": [
    "1/3"
   ]
  },
  {
   "cell_type": "code",
   "execution_count": 7,
   "id": "03f637e3",
   "metadata": {},
   "outputs": [
    {
     "data": {
      "text/plain": [
       "Float64"
      ]
     },
     "metadata": {},
     "output_type": "display_data"
    }
   ],
   "source": [
    "typeof(1/3)"
   ]
  },
  {
   "cell_type": "code",
   "execution_count": 8,
   "id": "d1141ee4",
   "metadata": {},
   "outputs": [
    {
     "data": {
      "text/plain": [
       "1//3"
      ]
     },
     "metadata": {},
     "output_type": "display_data"
    }
   ],
   "source": [
    "1//3"
   ]
  },
  {
   "cell_type": "code",
   "execution_count": 9,
   "id": "000383a7",
   "metadata": {},
   "outputs": [
    {
     "data": {
      "text/plain": [
       "Rational{Int64}"
      ]
     },
     "metadata": {},
     "output_type": "display_data"
    }
   ],
   "source": [
    "typeof(1//3)"
   ]
  },
  {
   "cell_type": "code",
   "execution_count": 10,
   "id": "d807e7a5",
   "metadata": {},
   "outputs": [
    {
     "data": {
      "text/plain": [
       "11//24"
      ]
     },
     "metadata": {},
     "output_type": "display_data"
    }
   ],
   "source": [
    "1//3 + 1//8"
   ]
  },
  {
   "cell_type": "code",
   "execution_count": 11,
   "id": "5d52e727",
   "metadata": {},
   "outputs": [
    {
     "data": {
      "text/plain": [
       "π = 3.1415926535897..."
      ]
     },
     "metadata": {},
     "output_type": "display_data"
    }
   ],
   "source": [
    "pi"
   ]
  },
  {
   "cell_type": "code",
   "execution_count": 12,
   "id": "a49ff260",
   "metadata": {},
   "outputs": [
    {
     "data": {
      "text/plain": [
       "Irrational{:π}"
      ]
     },
     "metadata": {},
     "output_type": "display_data"
    }
   ],
   "source": [
    "typeof(pi)"
   ]
  },
  {
   "cell_type": "code",
   "execution_count": 13,
   "id": "caa913c1",
   "metadata": {},
   "outputs": [
    {
     "data": {
      "text/plain": [
       "true"
      ]
     },
     "metadata": {},
     "output_type": "display_data"
    }
   ],
   "source": [
    "1000000 == 1_000_000"
   ]
  },
  {
   "cell_type": "code",
   "execution_count": 14,
   "id": "a899ecf9",
   "metadata": {},
   "outputs": [
    {
     "data": {
      "text/plain": [
       "4.0"
      ]
     },
     "metadata": {},
     "output_type": "display_data"
    }
   ],
   "source": [
    "sqrt(16)"
   ]
  },
  {
   "cell_type": "code",
   "execution_count": 15,
   "id": "79ea3847",
   "metadata": {},
   "outputs": [
    {
     "data": {
      "text/plain": [
       "2.0"
      ]
     },
     "metadata": {},
     "output_type": "display_data"
    }
   ],
   "source": [
    "4/2"
   ]
  },
  {
   "cell_type": "code",
   "execution_count": 16,
   "id": "95100a02",
   "metadata": {},
   "outputs": [
    {
     "data": {
      "text/plain": [
       "2.5"
      ]
     },
     "metadata": {},
     "output_type": "display_data"
    }
   ],
   "source": [
    "5/2"
   ]
  },
  {
   "cell_type": "code",
   "execution_count": 17,
   "id": "743f066b",
   "metadata": {},
   "outputs": [
    {
     "data": {
      "text/plain": [
       "2"
      ]
     },
     "metadata": {},
     "output_type": "display_data"
    }
   ],
   "source": [
    "div(4, 2)\n"
   ]
  },
  {
   "cell_type": "code",
   "execution_count": 18,
   "id": "9d86888a",
   "metadata": {},
   "outputs": [
    {
     "data": {
      "text/plain": [
       "2"
      ]
     },
     "metadata": {},
     "output_type": "display_data"
    }
   ],
   "source": [
    "div(5, 2)"
   ]
  },
  {
   "cell_type": "code",
   "execution_count": 19,
   "id": "a7a41c9c",
   "metadata": {},
   "outputs": [
    {
     "data": {
      "text/plain": [
       "2"
      ]
     },
     "metadata": {},
     "output_type": "display_data"
    }
   ],
   "source": [
    "4 ÷ 2 "
   ]
  },
  {
   "cell_type": "code",
   "execution_count": 20,
   "id": "540d4b5f",
   "metadata": {},
   "outputs": [
    {
     "data": {
      "text/plain": [
       "2"
      ]
     },
     "metadata": {},
     "output_type": "display_data"
    }
   ],
   "source": [
    "5 ÷ 2"
   ]
  },
  {
   "cell_type": "markdown",
   "id": "dd159e88",
   "metadata": {},
   "source": [
    "# Tutorial 10x11"
   ]
  },
  {
   "cell_type": "code",
   "execution_count": 22,
   "id": "07151696",
   "metadata": {},
   "outputs": [],
   "source": [
    "#string"
   ]
  },
  {
   "cell_type": "code",
   "execution_count": 23,
   "id": "f071525d",
   "metadata": {},
   "outputs": [
    {
     "data": {
      "text/plain": [
       "Char"
      ]
     },
     "metadata": {},
     "output_type": "display_data"
    }
   ],
   "source": [
    "# characters \n",
    "typeof('a')"
   ]
  },
  {
   "cell_type": "code",
   "execution_count": 24,
   "id": "461303cd",
   "metadata": {},
   "outputs": [
    {
     "data": {
      "text/plain": [
       "String"
      ]
     },
     "metadata": {},
     "output_type": "display_data"
    }
   ],
   "source": [
    "# and strings\n",
    "typeof(\"a\")"
   ]
  },
  {
   "cell_type": "code",
   "execution_count": 25,
   "id": "42dc5e73",
   "metadata": {},
   "outputs": [
    {
     "data": {
      "text/plain": [
       "String"
      ]
     },
     "metadata": {},
     "output_type": "display_data"
    }
   ],
   "source": [
    "typeof(\"Hello, World!\")"
   ]
  },
  {
   "cell_type": "code",
   "execution_count": 27,
   "id": "7f16e401",
   "metadata": {},
   "outputs": [
    {
     "name": "stdout",
     "output_type": "stream",
     "text": [
      "Say \"Hello World\". \n"
     ]
    }
   ],
   "source": [
    "# how to display quotation marks\n",
    "println(\"Say \\\"Hello World\\\". \")"
   ]
  },
  {
   "cell_type": "code",
   "execution_count": 28,
   "id": "82edd52b",
   "metadata": {},
   "outputs": [
    {
     "name": "stdout",
     "output_type": "stream",
     "text": [
      "Say \"Hello World\". \n"
     ]
    }
   ],
   "source": [
    "println(\"\"\"Say \"Hello World\". \"\"\")"
   ]
  },
  {
   "cell_type": "code",
   "execution_count": 29,
   "id": "dfcc8877",
   "metadata": {},
   "outputs": [
    {
     "name": "stdout",
     "output_type": "stream",
     "text": [
      "1\n",
      "2\n",
      "3\n"
     ]
    }
   ],
   "source": [
    "# how to display new lines\n",
    "println(\"1\\n2\\n3\")"
   ]
  },
  {
   "cell_type": "code",
   "execution_count": 30,
   "id": "f00410b3",
   "metadata": {},
   "outputs": [
    {
     "name": "stdout",
     "output_type": "stream",
     "text": [
      "1\t2\t3\n"
     ]
    }
   ],
   "source": [
    "# how to display tabs\n",
    "println(\"1\\t2\\t3\")"
   ]
  },
  {
   "cell_type": "code",
   "execution_count": 31,
   "id": "2adf2b5d",
   "metadata": {},
   "outputs": [
    {
     "data": {
      "text/plain": [
       "\"Hello, World!\""
      ]
     },
     "metadata": {},
     "output_type": "display_data"
    }
   ],
   "source": [
    "\n",
    "# how to concatenate\n",
    "\n",
    "s1 = \"Hello, \"\n",
    "\n",
    "s2 = \"World!\"\n",
    "\n",
    "s1_s2 = s1 * s2"
   ]
  },
  {
   "cell_type": "code",
   "execution_count": 33,
   "id": "ff83dcbe",
   "metadata": {},
   "outputs": [
    {
     "name": "stdout",
     "output_type": "stream",
     "text": [
      "Shahriar Welcome to our University\n"
     ]
    }
   ],
   "source": [
    "# how to interpolate\n",
    "\n",
    "v1 = \"Shahriar\"\n",
    "\n",
    "println(\"$v1 Welcome to our University\")"
   ]
  },
  {
   "cell_type": "code",
   "execution_count": 36,
   "id": "82ceaf03",
   "metadata": {},
   "outputs": [
    {
     "data": {
      "text/plain": [
       "Char"
      ]
     },
     "metadata": {},
     "output_type": "display_data"
    }
   ],
   "source": [
    "# unicode characters\n",
    "\n",
    "# \\alpha<tab>\n",
    "typeof('α')"
   ]
  },
  {
   "cell_type": "code",
   "execution_count": 39,
   "id": "6e2d0d1c",
   "metadata": {},
   "outputs": [
    {
     "data": {
      "text/plain": [
       "Char"
      ]
     },
     "metadata": {},
     "output_type": "display_data"
    }
   ],
   "source": [
    "typeof('😄')"
   ]
  },
  {
   "cell_type": "code",
   "execution_count": 40,
   "id": "95aa584e",
   "metadata": {},
   "outputs": [
    {
     "data": {
      "text/plain": [
       "ℯ = 2.7182818284590..."
      ]
     },
     "metadata": {},
     "output_type": "display_data"
    }
   ],
   "source": [
    "\n",
    "\n",
    "# \\:dog:<tab>\n",
    "typeof('🐶')\n",
    "\n",
    "α = 1\n",
    "\n",
    "🐶 = 2\n",
    "\n",
    "α + 🐶\n",
    "\n",
    "# \\pi<tab>\n",
    "π\n",
    "\n",
    "π == pi\n",
    "\n",
    "# \\euler<tab>\n",
    "ℯ"
   ]
  },
  {
   "cell_type": "markdown",
   "id": "b515d0fe",
   "metadata": {},
   "source": [
    "# Tutorial 10x12"
   ]
  },
  {
   "cell_type": "code",
   "execution_count": 2,
   "id": "d243a4ff",
   "metadata": {},
   "outputs": [],
   "source": [
    "#Data Structure\n",
    "# arrays"
   ]
  },
  {
   "cell_type": "code",
   "execution_count": 3,
   "id": "921d0ab8",
   "metadata": {},
   "outputs": [
    {
     "data": {
      "text/plain": [
       "3-element Vector{Int64}:\n",
       " 1\n",
       " 2\n",
       " 4"
      ]
     },
     "metadata": {},
     "output_type": "display_data"
    }
   ],
   "source": [
    "# construct columns vector\n",
    "col_vector = [1, 2, 4]"
   ]
  },
  {
   "cell_type": "code",
   "execution_count": 4,
   "id": "d735854a",
   "metadata": {},
   "outputs": [
    {
     "data": {
      "text/plain": [
       "Vector{Int64}\u001b[90m (alias for \u001b[39m\u001b[90mArray{Int64, 1}\u001b[39m\u001b[90m)\u001b[39m"
      ]
     },
     "metadata": {},
     "output_type": "display_data"
    }
   ],
   "source": [
    "typeof(col_vector)"
   ]
  },
  {
   "cell_type": "code",
   "execution_count": 6,
   "id": "ada39c5a",
   "metadata": {},
   "outputs": [
    {
     "name": "stdout",
     "output_type": "stream",
     "text": [
      "Float32[3.1, 3.4, 8.9]\n"
     ]
    }
   ],
   "source": [
    "# construct row vector (matrix)\n",
    "\n",
    "row_vector = Float32[3.1, 3.4, 8.9]\n",
    "println(row_vector)"
   ]
  },
  {
   "cell_type": "code",
   "execution_count": 8,
   "id": "31be2b5f",
   "metadata": {},
   "outputs": [
    {
     "data": {
      "text/plain": [
       "4"
      ]
     },
     "metadata": {},
     "output_type": "display_data"
    }
   ],
   "source": [
    "# access vector element\n",
    "col_vector[3]"
   ]
  },
  {
   "cell_type": "code",
   "execution_count": 9,
   "id": "b5c7ef40",
   "metadata": {},
   "outputs": [
    {
     "name": "stdout",
     "output_type": "stream",
     "text": [
      "[1, 20, 4]\n"
     ]
    }
   ],
   "source": [
    "# mutate vector element\n",
    "\n",
    "col_vector[2] = 20\n",
    "println(col_vector)"
   ]
  },
  {
   "cell_type": "code",
   "execution_count": 10,
   "id": "513b0130",
   "metadata": {},
   "outputs": [
    {
     "data": {
      "text/plain": [
       "3"
      ]
     },
     "metadata": {},
     "output_type": "display_data"
    }
   ],
   "source": [
    "# find length of vector\n",
    "length(col_vector)"
   ]
  },
  {
   "cell_type": "code",
   "execution_count": 12,
   "id": "942cf3ee",
   "metadata": {},
   "outputs": [
    {
     "data": {
      "text/plain": [
       "25"
      ]
     },
     "metadata": {},
     "output_type": "display_data"
    }
   ],
   "source": [
    "# sum of vector elements\n",
    "sum(col_vector)"
   ]
  },
  {
   "cell_type": "code",
   "execution_count": 13,
   "id": "f41ffae1",
   "metadata": {},
   "outputs": [
    {
     "name": "stdout",
     "output_type": "stream",
     "text": [
      "[20, 4, 1]\n",
      "[1, 20, 4]\n"
     ]
    }
   ],
   "source": [
    "# sort vector elements\n",
    "# (descending, nondestructive)\n",
    "\n",
    "println(sort(col_vector; rev=true))\n",
    "\n",
    "println(col_vector)"
   ]
  },
  {
   "cell_type": "code",
   "execution_count": 15,
   "id": "70ec16df",
   "metadata": {},
   "outputs": [
    {
     "name": "stdout",
     "output_type": "stream",
     "text": [
      "[20, 4, 1]\n",
      "[20, 4, 1]\n"
     ]
    }
   ],
   "source": [
    "# sort vector elements\n",
    "# (descending, destructive)\n",
    "\n",
    "println(sort!(col_vector; rev=true))\n",
    "\n",
    "println(col_vector)"
   ]
  },
  {
   "cell_type": "code",
   "execution_count": 16,
   "id": "8dcb8d5b",
   "metadata": {},
   "outputs": [
    {
     "data": {
      "text/plain": [
       "4-element Vector{Int64}:\n",
       "  20\n",
       "   4\n",
       "   1\n",
       " 100"
      ]
     },
     "metadata": {},
     "output_type": "display_data"
    }
   ],
   "source": [
    "# add new element to end of vector\n",
    "push!(col_vector, 100)"
   ]
  },
  {
   "cell_type": "code",
   "execution_count": 17,
   "id": "a408037a",
   "metadata": {},
   "outputs": [
    {
     "data": {
      "text/plain": [
       "4-element Vector{Int64}:\n",
       "  20\n",
       "   4\n",
       "   1\n",
       " 100"
      ]
     },
     "metadata": {},
     "output_type": "display_data"
    }
   ],
   "source": [
    "col_vector"
   ]
  },
  {
   "cell_type": "code",
   "execution_count": 18,
   "id": "f07b239d",
   "metadata": {},
   "outputs": [
    {
     "data": {
      "text/plain": [
       "100"
      ]
     },
     "metadata": {},
     "output_type": "display_data"
    }
   ],
   "source": [
    "# remove element from end of vector\n",
    "pop!(col_vector)"
   ]
  },
  {
   "cell_type": "code",
   "execution_count": 19,
   "id": "1d294a9b",
   "metadata": {},
   "outputs": [
    {
     "data": {
      "text/plain": [
       "3-element Vector{Int64}:\n",
       " 20\n",
       "  4\n",
       "  1"
      ]
     },
     "metadata": {},
     "output_type": "display_data"
    }
   ],
   "source": [
    "col_vector"
   ]
  },
  {
   "cell_type": "code",
   "execution_count": 21,
   "id": "7551ebc7",
   "metadata": {},
   "outputs": [
    {
     "data": {
      "text/plain": [
       "3×4 Matrix{Int64}:\n",
       "  1   2   3   4\n",
       "  9   8   7   6\n",
       " 12  11  13  43"
      ]
     },
     "metadata": {},
     "output_type": "display_data"
    }
   ],
   "source": [
    "# construct a matrix with 3 rows and 4 columns\n",
    "\n",
    "matrix = [1 2 3 4; 9 8 7 6; 12 11 13 43]"
   ]
  },
  {
   "cell_type": "code",
   "execution_count": 22,
   "id": "10fee24f",
   "metadata": {},
   "outputs": [
    {
     "data": {
      "text/plain": [
       "Matrix{Int64}\u001b[90m (alias for \u001b[39m\u001b[90mArray{Int64, 2}\u001b[39m\u001b[90m)\u001b[39m"
      ]
     },
     "metadata": {},
     "output_type": "display_data"
    }
   ],
   "source": [
    "typeof(matrix)"
   ]
  },
  {
   "cell_type": "code",
   "execution_count": 23,
   "id": "6fe25d87",
   "metadata": {},
   "outputs": [
    {
     "data": {
      "text/plain": [
       "43"
      ]
     },
     "metadata": {},
     "output_type": "display_data"
    }
   ],
   "source": [
    "# access element of matrix [first_row_index, then_col_index]\n",
    "matrix[3, 4]"
   ]
  },
  {
   "cell_type": "code",
   "execution_count": 24,
   "id": "44fda923",
   "metadata": {},
   "outputs": [
    {
     "data": {
      "text/plain": [
       "8"
      ]
     },
     "metadata": {},
     "output_type": "display_data"
    }
   ],
   "source": [
    "# access element using ; column-major order\n",
    "\n",
    "matrix[5]"
   ]
  },
  {
   "cell_type": "code",
   "execution_count": 25,
   "id": "13caa15b",
   "metadata": {},
   "outputs": [
    {
     "data": {
      "text/plain": [
       "Vector{Any}\u001b[90m (alias for \u001b[39m\u001b[90mArray{Any, 1}\u001b[39m\u001b[90m)\u001b[39m"
      ]
     },
     "metadata": {},
     "output_type": "display_data"
    }
   ],
   "source": [
    "# construct array with elements of different data types\n",
    "\n",
    "multi_types = [\n",
    "    1, 1.19, 1//4 , pi,\n",
    "    'a', \"Bangla\", [1, 2,4]\n",
    "]\n",
    "\n",
    "typeof(multi_types)"
   ]
  },
  {
   "cell_type": "markdown",
   "id": "7c15a003",
   "metadata": {},
   "source": [
    "# Tutorial 10x13"
   ]
  },
  {
   "cell_type": "code",
   "execution_count": 1,
   "id": "6465be52",
   "metadata": {},
   "outputs": [],
   "source": [
    "# tuple "
   ]
  },
  {
   "cell_type": "code",
   "execution_count": 3,
   "id": "4dcbee4f",
   "metadata": {},
   "outputs": [
    {
     "name": "stdout",
     "output_type": "stream",
     "text": [
      "(\"Shahriar\", 25, \"Dhaka\")\n",
      "Tuple{String, Int64, String}\n"
     ]
    }
   ],
   "source": [
    "# tuple construction \n",
    "\n",
    "intro = (\"Shahriar\", 25, \"Dhaka\")\n",
    "println(intro)\n",
    "println(typeof(intro))"
   ]
  },
  {
   "cell_type": "code",
   "execution_count": 4,
   "id": "7ed8bae8",
   "metadata": {},
   "outputs": [
    {
     "data": {
      "text/plain": [
       "\"Shahriar\""
      ]
     },
     "metadata": {},
     "output_type": "display_data"
    }
   ],
   "source": [
    "# access tuple element\n",
    "intro[1]"
   ]
  },
  {
   "cell_type": "code",
   "execution_count": 5,
   "id": "75ecf664",
   "metadata": {},
   "outputs": [],
   "source": [
    "# tuple is immutable, so that we can't modify it"
   ]
  },
  {
   "cell_type": "code",
   "execution_count": 6,
   "id": "6a72c43b",
   "metadata": {},
   "outputs": [
    {
     "data": {
      "text/plain": [
       "(\"Shahriar\", 25, \"Dhaka\")"
      ]
     },
     "metadata": {},
     "output_type": "display_data"
    }
   ],
   "source": [
    "# destructure assignment\n",
    "name, age, town = intro"
   ]
  },
  {
   "cell_type": "code",
   "execution_count": 8,
   "id": "93d4f69c",
   "metadata": {},
   "outputs": [
    {
     "name": "stdout",
     "output_type": "stream",
     "text": [
      "Shahriar\n",
      "25\n",
      "Dhaka\n"
     ]
    }
   ],
   "source": [
    "println(name)\n",
    "println(age)\n",
    "println(town)"
   ]
  },
  {
   "cell_type": "markdown",
   "id": "b3ae0f39",
   "metadata": {},
   "source": [
    "# Tutorial 10x14"
   ]
  },
  {
   "cell_type": "code",
   "execution_count": 9,
   "id": "b987014c",
   "metadata": {},
   "outputs": [],
   "source": [
    "# named tuple"
   ]
  },
  {
   "cell_type": "code",
   "execution_count": 11,
   "id": "3ca08e8d",
   "metadata": {},
   "outputs": [
    {
     "data": {
      "text/plain": [
       "(name = \"Shahriar Kabir\", major = \"Accounting\", edu = \"BBA\", session = 2023)"
      ]
     },
     "metadata": {},
     "output_type": "display_data"
    }
   ],
   "source": [
    "# construct named tuple\n",
    "person = (\n",
    "    name=\"Shahriar Kabir\",\n",
    "    major=\"Accounting\",\n",
    "    edu=\"BBA\",\n",
    "    session=2023\n",
    ")"
   ]
  },
  {
   "cell_type": "code",
   "execution_count": 12,
   "id": "0c668ea7",
   "metadata": {},
   "outputs": [
    {
     "data": {
      "text/plain": [
       "\"Shahriar Kabir\""
      ]
     },
     "metadata": {},
     "output_type": "display_data"
    }
   ],
   "source": [
    "# access named tuple element -either we can use index to access element of tuple \n",
    "person[1]"
   ]
  },
  {
   "cell_type": "code",
   "execution_count": 14,
   "id": "6cc1b3d0",
   "metadata": {},
   "outputs": [
    {
     "name": "stdout",
     "output_type": "stream",
     "text": [
      "Shahriar Kabir\n",
      "BBA\n",
      "2023\n"
     ]
    }
   ],
   "source": [
    "# access name tuple element -another way\n",
    "println(person.name)\n",
    "println(person.edu)\n",
    "println(person.session)\n"
   ]
  },
  {
   "cell_type": "code",
   "execution_count": null,
   "id": "e81e657a",
   "metadata": {},
   "outputs": [],
   "source": []
  }
 ],
 "metadata": {
  "kernelspec": {
   "display_name": "Julia 1.10.5",
   "language": "julia",
   "name": "julia-1.10"
  },
  "language_info": {
   "file_extension": ".jl",
   "mimetype": "application/julia",
   "name": "julia",
   "version": "1.10.5"
  }
 },
 "nbformat": 4,
 "nbformat_minor": 5
}
